{
 "cells": [
  {
   "cell_type": "markdown",
   "id": "5f062710-9305-48f1-940b-dabdc79ed62e",
   "metadata": {},
   "source": [
    "# Packages"
   ]
  },
  {
   "cell_type": "code",
   "execution_count": 1,
   "id": "7c617da4-293e-47ee-b88f-a01802b5e647",
   "metadata": {},
   "outputs": [],
   "source": [
    "# Data analysis and Excel reading\n",
    "import pandas as pd\n",
    "\n",
    "#\n",
    "from dotenv import load_dotenv\n",
    "\n",
    "# File and directory operations\n",
    "import os\n",
    "\n",
    "# Send HTTP requests (e.g., to Google Street View API)\n",
    "import requests\n",
    "\n",
    "# Image processing (OpenCV)\n",
    "import cv2\n",
    "\n",
    "# Display images and HTML in Jupyter notebooks\n",
    "from IPython.display import Image, display, HTML\n",
    "\n",
    "# Excel file manipulation and styling\n",
    "from openpyxl import load_workbook\n",
    "from openpyxl.styles import Alignment"
   ]
  },
  {
   "cell_type": "markdown",
   "id": "097a1cf5-16ef-4bc8-8c53-d5b6423652df",
   "metadata": {},
   "source": [
    "# Download Street View images"
   ]
  },
  {
   "cell_type": "markdown",
   "id": "533f0b39-cf9c-40ab-b2ab-12e8827f1fc6",
   "metadata": {},
   "source": [
    "Google Street View images were automatically downloaded using the Street View Static API for multiple georeferenced locations, based on latitude and longitude coordinates extracted from an Excel file.\n",
    "\n",
    "For each central point of the selected street segment, images were captured in eight different directions, spaced every 30 degrees to cover the full 360-degree view around the location. The images were obtained with a standard resolution of 640x640 pixels, a field of view of 60 degrees, and a fixed pitch angle of zero.\n",
    "\n",
    "All images were stored locally in folders organized by location ID."
   ]
  },
  {
   "cell_type": "markdown",
   "id": "44f689ff-f26d-48f1-9cf3-273c19c10a6d",
   "metadata": {},
   "source": [
    "## Parameters"
   ]
  },
  {
   "cell_type": "code",
   "execution_count": 10,
   "id": "77b5c483-35af-42dd-a572-4cefd78cf56c",
   "metadata": {},
   "outputs": [],
   "source": [
    "# Authenticate requests to the Google API\n",
    "\n",
    "load_dotenv(\"api_key.env\")\n",
    "api_key = os.getenv(\"GOOGLE_API_KEY\")"
   ]
  },
  {
   "cell_type": "code",
   "execution_count": null,
   "id": "27147a19-61d4-4788-a4dc-32b1f6fa5ba3",
   "metadata": {},
   "outputs": [],
   "source": [
    "# Image size (width x height)\n",
    "size = \"640x640\"\n",
    "\n",
    "# Camera pitch (vertical angle)\n",
    "pitch = 0\n",
    "\n",
    "# Field of view (horizontal angle)\n",
    "fov = 60\n",
    "\n",
    "# Headings (camera directions in degrees)\n",
    "# List of headings every 30 degrees around 360°\n",
    "headings = [i for i in range(0, 360, 30)]"
   ]
  },
  {
   "cell_type": "markdown",
   "id": "adf78b2b-5772-4c5d-9df6-792b323b5aad",
   "metadata": {},
   "source": [
    "## Download function"
   ]
  },
  {
   "cell_type": "code",
   "execution_count": null,
   "id": "bffb135e-1ea1-4c0e-81df-646cf2e3d822",
   "metadata": {},
   "outputs": [],
   "source": [
    "def download_images(location_id, lat, lon, output_folder):\n",
    "    if not os.path.exists(output_folder):\n",
    "        os.makedirs(output_folder)\n",
    "\n",
    "    base_url = \"https://maps.googleapis.com/maps/api/streetview\"\n",
    "    image_paths = []\n",
    "    success = False\n",
    "\n",
    "    for heading in headings:\n",
    "        filename = os.path.join(output_folder, f\"{location_id}_h{heading}.jpg\")\n",
    "\n",
    "        if not os.path.exists(filename):\n",
    "            params = {\n",
    "                \"key\": api_key,\n",
    "                \"size\": size,\n",
    "                \"pitch\": pitch,\n",
    "                \"fov\": fov,\n",
    "                \"heading\": heading,\n",
    "                \"location\": f\"{lat},{lon}\"\n",
    "            }\n",
    "            response = requests.get(base_url, params=params)\n",
    "\n",
    "            if response.status_code == 200:\n",
    "                with open(filename, \"wb\") as f:\n",
    "                    f.write(response.content)\n",
    "                image_paths.append(filename)\n",
    "                success = True\n",
    "            elif response.status_code != 404:\n",
    "                print(f\"❌ Error {response.status_code} at ID {location_id} | Heading: {heading}\")\n",
    "        else:\n",
    "            image_paths.append(filename)\n",
    "            success = True\n",
    "\n",
    "    return success, sorted(list(set(image_paths)))\n",
    "\n",
    "output_base_folder = \"street_view_images\"\n",
    "\n",
    "excel_file = \"coordinates.xlsx\"\n",
    "df = pd.read_excel(excel_file)\n",
    "\n",
    "coordinates = list(zip(df['id'], df['latitude'], df['longitude']))\n",
    "\n",
    "for location_id, lat, lon in coordinates:\n",
    "    folder = os.path.join(output_base_folder, str(location_id))\n",
    "    success, _ = download_images(location_id, lat, lon, folder)\n",
    "    if success:\n",
    "        print(f\"✅ Downloading completed for ID: {location_id}\")\n",
    "    else:\n",
    "        print(f\"⚠️ No images found or all requests failed for ID: {location_id}\")"
   ]
  },
  {
   "cell_type": "markdown",
   "id": "1b48c889-0889-44f9-8667-a5cebbed480c",
   "metadata": {},
   "source": [
    "# Stitching"
   ]
  },
  {
   "cell_type": "markdown",
   "id": "5e23f54e-3550-491e-bb32-1df41e4a8090",
   "metadata": {},
   "source": [
    "After the download, the images obtained for each location were processed using a stitching algorithm to generate a 360-degree panoramic view of the surroundings from the central point. The individual images, captured in eight distinct directions, were loaded and automatically combined using the OpenCV library.\n",
    "\n",
    "The stitching function assessed the overlap between images and performed alignment and blending to produce a seamless composite image. When successful, the resulting panoramic image was cropped to remove unwanted margins and then saved locally under a filename corresponding to the location's unique ID. The stitched panoramas were stored in the same ID-organized folders used to save the original images."
   ]
  },
  {
   "cell_type": "code",
   "execution_count": null,
   "id": "8d213de9-151a-4fa7-b4c2-5bb5f61c145a",
   "metadata": {},
   "outputs": [],
   "source": [
    "def load_images(image_paths):\n",
    "    images = []\n",
    "    for path in image_paths:\n",
    "        img = cv2.imread(path)\n",
    "        if img is not None:\n",
    "            images.append(img)\n",
    "    return images\n",
    "\n",
    "def stitch_and_save(images, output_path, location_id):\n",
    "    if not images:\n",
    "        print(f\"❌ No valid images to stitch for ID: {location_id}\")\n",
    "        return\n",
    "\n",
    "    stitcher = getattr(cv2, \"Stitcher_create\", lambda: cv2.Stitcher.create(False))()\n",
    "    status, stitched = stitcher.stitch(images)\n",
    "\n",
    "    if status == 0:\n",
    "        margin = 15\n",
    "        h, w = stitched.shape[:2]\n",
    "        stitched_cropped = stitched[margin:h - margin, margin:w - margin]\n",
    "        cv2.imwrite(output_path, stitched_cropped)\n",
    "        print(f\"✅ Stitching completed for ID: {location_id}\")\n",
    "    else:\n",
    "        errors = {\n",
    "            -1: \"More images or better overlap needed.\",\n",
    "            -2: \"Global alignment failure.\",\n",
    "            -3: \"Homography estimation failure.\",\n",
    "            -4: \"Camera parameter adjustment failure.\"\n",
    "        }\n",
    "        print(f\"❌ Stitching failed for ID: {location_id} → {errors.get(status, f'Error {status}')}\")\n",
    "\n",
    "for location_id, lat, lon in coordinates:\n",
    "    folder = os.path.join(output_base_folder, str(location_id))\n",
    "    stitched_file = os.path.join(folder, f\"{location_id}.jpg\")\n",
    "\n",
    "    if os.path.exists(stitched_file):\n",
    "        print(f\"✅ Stitching completed for ID: {location_id}\")\n",
    "        continue\n",
    "\n",
    "    image_paths = [os.path.join(folder, f) for f in os.listdir(folder) if f.endswith(\".jpg\")]\n",
    "\n",
    "    imgs = load_images(image_paths)\n",
    "    stitch_and_save(imgs, stitched_file, location_id)"
   ]
  },
  {
   "cell_type": "markdown",
   "id": "e18aa731-97ff-47e6-b795-7751a4d866c7",
   "metadata": {},
   "source": [
    "# Get image date via the metadata API"
   ]
  },
  {
   "cell_type": "markdown",
   "id": "fdb5e892-132c-43ca-839e-663412042fe8",
   "metadata": {},
   "source": [
    "An automated extraction of image dates from Google Street View was performed using the Street View Metadata API, based on geographic coordinates retrieved from an Excel file. For each point, the date of the most recent available image was recorded. The results were stored in a new Excel file containing the fields: id, latitude, longitude, and date."
   ]
  },
  {
   "cell_type": "code",
   "execution_count": null,
   "id": "cf0f7f38-3b35-4ca7-8ccc-70c2ee9fe32b",
   "metadata": {},
   "outputs": [],
   "source": [
    "def get_metadata(lat, lon):\n",
    "    url = \"https://maps.googleapis.com/maps/api/streetview/metadata\"\n",
    "    params = {\n",
    "        \"location\": f\"{lat},{lon}\",\n",
    "        \"key\": api_key\n",
    "    }\n",
    "    response = requests.get(url, params=params)\n",
    "    if response.status_code == 200:\n",
    "        data = response.json()\n",
    "        return data.get(\"date\", \"Unknown\")\n",
    "    else:\n",
    "        return \"Error\"\n",
    "\n",
    "excel_file = \"coordinates.xlsx\"\n",
    "df = pd.read_excel(excel_file)\n",
    "\n",
    "output_file = \"street_view_dates.xlsx\"\n",
    "\n",
    "if os.path.exists(output_file):\n",
    "    existing_df = pd.read_excel(output_file)\n",
    "else:\n",
    "    existing_df = pd.DataFrame(columns=[\"id\", \"latitude\", \"longitude\", \"date\"])\n",
    "\n",
    "existing_df.set_index('id', inplace=True)\n",
    "\n",
    "for _, row in df.iterrows():\n",
    "    location_id = int(row['id'])\n",
    "    lat = row['latitude']\n",
    "    lon = row['longitude']\n",
    "\n",
    "    print(f\"✅ Date for ID: {location_id}\")\n",
    "\n",
    "    if location_id in existing_df.index and existing_df.loc[location_id, 'date'] not in ['Unknown', 'Error']:\n",
    "        continue\n",
    "\n",
    "    date = get_metadata(lat, lon)\n",
    "\n",
    "    existing_df.loc[location_id] = [lat, lon, date]\n",
    "\n",
    "existing_df.reset_index(inplace=True)\n",
    "existing_df.to_excel(output_file, index=False)\n",
    "\n",
    "wb = load_workbook(output_file)\n",
    "ws = wb.active\n",
    "\n",
    "alignment_center = Alignment(horizontal=\"center\", vertical=\"center\")\n",
    "\n",
    "for row in ws.iter_rows():\n",
    "    for cell in row:\n",
    "        cell.alignment = alignment_center\n",
    "\n",
    "wb.save(output_file)"
   ]
  }
 ],
 "metadata": {
  "kernelspec": {
   "display_name": "Python 3 (ipykernel)",
   "language": "python",
   "name": "python3"
  },
  "language_info": {
   "codemirror_mode": {
    "name": "ipython",
    "version": 3
   },
   "file_extension": ".py",
   "mimetype": "text/x-python",
   "name": "python",
   "nbconvert_exporter": "python",
   "pygments_lexer": "ipython3",
   "version": "3.13.2"
  }
 },
 "nbformat": 4,
 "nbformat_minor": 5
}
